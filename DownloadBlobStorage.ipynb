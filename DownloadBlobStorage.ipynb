#Here’s a snippet of code to retrieve individual public blob files:
# Just download one public blob file

import os, sys, urllib3
from azure.storage.blob import BlockBlobService
 
def load_public_blob(the_file_path ='rossmann/rossmann_data/train.csv', 
                       the_base_url='https://adsdlvm.blob.core.windows.net/ftkdata/ftkdata'):
    '''If the blob files are public, then the url for them looks like
https://<blob_account_name>.blob.core.windows.net/<container_path>'''
    url_obj = urllib3.PoolManager()
    the_url = os.path.join(the_base_url, the_file_path)
    req = url_obj.request('GET', the_url)
    if req.status == 200:
        print("returning {}: {}".format(the_file_path, len(req.data)),file=sys.stderr)
        return req.data
    else:
        print('Request failed. GET status was: {}', req.status)
    return None
 
if __name__ =='__main__':
    load_public_blob()

