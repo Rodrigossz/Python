import requests
import urllib
import webbrowser
import urllib
from PIL import Image
import requests
from io import BytesIO



visionURI = 'https://westeurope.api.cognitive.microsoft.com/vision/v1.0/analyze'
visionKey = '7b17b15752a445128107a5628bf2bbe6'

img_url = 'https://pbs.twimg.com/profile_images/562395728299835392/ZbRdqNup_400x400.png'



def visionAPI(imgurl):
    headers = {
        # Request headers.
        'Content-Type': 'application/json',
        'Ocp-Apim-Subscription-Key': visionKey,
    }

    params = urllib.parse.urlencode({
            # Request parameters. All of them are optional.
            'visualFeatures': 'Categories,Description,Color',
            'language': 'en',
        })
    body = {'url': img_url }
    request = requests.post(visionURI,params=params,headers=headers,json=body)
    request.raise_for_status()
    response = request.json()
    return response['description']['captions'][0]['text']

print(visionAPI(img_url))

response = requests.get(img_url)
Image.open(BytesIO(response.content))

